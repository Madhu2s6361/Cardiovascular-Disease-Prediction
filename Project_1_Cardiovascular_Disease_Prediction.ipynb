{
  "nbformat": 4,
  "nbformat_minor": 0,
  "metadata": {
    "colab": {
      "provenance": [],
      "authorship_tag": "ABX9TyO2nLXaD6ukDlrXHpdQ2/SY",
      "include_colab_link": true
    },
    "kernelspec": {
      "name": "python3",
      "display_name": "Python 3"
    },
    "language_info": {
      "name": "python"
    }
  },
  "cells": [
    {
      "cell_type": "markdown",
      "metadata": {
        "id": "view-in-github",
        "colab_type": "text"
      },
      "source": [
        "<a href=\"https://colab.research.google.com/github/Madhu2s6361/Cardiovascular-Disease-Prediction/blob/main/Project_1_Cardiovascular_Disease_Prediction.ipynb\" target=\"_parent\"><img src=\"https://colab.research.google.com/assets/colab-badge.svg\" alt=\"Open In Colab\"/></a>"
      ]
    },
    {
      "cell_type": "markdown",
      "source": [
        "#Project 1 : Cardiovascular Disease Prediction\n"
      ],
      "metadata": {
        "id": "GGvYmDXNqdug"
      }
    },
    {
      "cell_type": "markdown",
      "source": [
        "**Cardiovascular Disease:\n",
        "Definition: It is the application of machine learning (ML) algorithms to analyze patient health data (such as age, cholesterol, blood pressure, glucose levels, lifestyle habits, etc.) to predict the risk or presence of cardiovascular diseases (CVDs) like heart attack, stroke, or heart failure.\n",
        "\n",
        "Why it’s important\n",
        "\n",
        "Cardiovascular diseases are the leading cause of death worldwide.\n",
        "\n",
        "Early detection can save lives by enabling timely intervention.\n",
        "\n",
        "Traditional methods rely on manual interpretation (ECG, blood tests, clinical judgment), while ML can process large, complex datasets and find hidden patterns that humans may miss.\n",
        "\n",
        "Cardiovascular Diseases: https://bigapollospectra.com/news/cardiovascular-disease-types-causes-and-symptoms\n",
        "\n",
        "****Concept\n",
        "\n",
        "Input (Features): age, gender, cholesterol, blood pressure, smoking, BMI, glucose, etc.\n",
        "\n",
        "Target (Label): cardio (1 = has cardiovascular disease; 0 = no disease).\n",
        "\n",
        "****Approach:\n",
        "\n",
        "Perform EDA → clean + explore dataset.\n",
        "\n",
        "Train/Test split.\n",
        "\n",
        "Scale features.\n",
        "\n",
        "Apply ML model (Logistic Regression, RandomForest, etc.).\n",
        "\n",
        "Evaluate (Accuracy, Confusion Matrix, ROC, Precision, F1 score, classification report etc...)\n",
        "\n",
        "\n",
        "• Perform data pre-processing operations.\n",
        "• As a part of data analysis and visualizations draw all the possible plots to provide essential informations and to derive some meaningful insights.\n",
        "\n",
        "• Show your correlation matrix of features according to the datasets.\n",
        "\n",
        "• Find out accuracy levels of various machine learning techniques such as\n",
        "Support Vector Machines (SVM), K-Nearest Neighbor (KNN),\n",
        "Decision Trees (DT) ,\n",
        "Logistic Regression (LR) and\n",
        "Random Forest (RF).\n",
        "\n",
        "• Build your Machine learning model for heart disease detection according to the result."
      ],
      "metadata": {
        "id": "5gNsIklHp1i4"
      }
    },
    {
      "cell_type": "code",
      "execution_count": 1,
      "metadata": {
        "id": "WygKkihEliXC"
      },
      "outputs": [],
      "source": [
        "import pandas as pd\n",
        "import numpy as np\n",
        "import matplotlib.pyplot as plt\n",
        "import seaborn as sns\n",
        "import warnings\n",
        "warnings.filterwarnings('ignore')"
      ]
    },
    {
      "cell_type": "code",
      "source": [],
      "metadata": {
        "id": "gB2Ir4orZCvv"
      },
      "execution_count": null,
      "outputs": []
    }
  ]
}