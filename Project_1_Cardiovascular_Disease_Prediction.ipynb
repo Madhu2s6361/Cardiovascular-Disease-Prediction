{
  "nbformat": 4,
  "nbformat_minor": 0,
  "metadata": {
    "colab": {
      "provenance": [],
      "authorship_tag": "ABX9TyNZUytevAi48YBMB7bp0YCo",
      "include_colab_link": true
    },
    "kernelspec": {
      "name": "python3",
      "display_name": "Python 3"
    },
    "language_info": {
      "name": "python"
    }
  },
  "cells": [
    {
      "cell_type": "markdown",
      "metadata": {
        "id": "view-in-github",
        "colab_type": "text"
      },
      "source": [
        "<a href=\"https://colab.research.google.com/github/Madhu2s6361/Cardiovascular-Disease-Prediction/blob/main/Project_1_Cardiovascular_Disease_Prediction.ipynb\" target=\"_parent\"><img src=\"https://colab.research.google.com/assets/colab-badge.svg\" alt=\"Open In Colab\"/></a>"
      ]
    },
    {
      "cell_type": "markdown",
      "source": [
        "#Project 1 : Cardiovascular Disease Prediction\n"
      ],
      "metadata": {
        "id": "GGvYmDXNqdug"
      }
    },
    {
      "cell_type": "markdown",
      "source": [
        "**Cardiovascular Disease:\n",
        "Definition: It is the application of machine learning (ML) algorithms to analyze patient health data (such as age, cholesterol, blood pressure, glucose levels, lifestyle habits, etc.) to predict the risk or presence of cardiovascular diseases (CVDs) like heart attack, stroke, or heart failure.\n",
        "\n",
        "Why it’s important\n",
        "\n",
        "Cardiovascular diseases are the leading cause of death worldwide.\n",
        "\n",
        "Early detection can save lives by enabling timely intervention.\n",
        "\n",
        "Traditional methods rely on manual interpretation (ECG, blood tests, clinical judgment), while ML can process large, complex datasets and find hidden patterns that humans may miss.\n",
        "\n",
        "Cardiovascular Diseases: https://bigapollospectra.com/news/cardiovascular-disease-types-causes-and-symptoms\n",
        "\n",
        "****Concept\n",
        "\n",
        "Input (Features): age, gender, cholesterol, blood pressure, smoking, BMI, glucose, etc.\n",
        "\n",
        "Target (Label): cardio (1 = has cardiovascular disease; 0 = no disease).\n",
        "\n",
        "****Approach:\n",
        "\n",
        "Perform EDA → clean + explore dataset.\n",
        "\n",
        "Train/Test split.\n",
        "\n",
        "Scale features.\n",
        "\n",
        "Apply ML model (Logistic Regression, RandomForest, etc.).\n",
        "\n",
        "Evaluate (Accuracy, Confusion Matrix, ROC, Precision, F1 score, classification report etc...)\n",
        "\n",
        "\n",
        "• Perform data pre-processing operations.\n",
        "• As a part of data analysis and visualizations draw all the possible plots to provide essential informations and to derive some meaningful insights.\n",
        "\n",
        "• Show your correlation matrix of features according to the datasets.\n",
        "\n",
        "• Find out accuracy levels of various machine learning techniques such as\n",
        "Support Vector Machines (SVM), K-Nearest Neighbor (KNN),\n",
        "Decision Trees (DT) ,\n",
        "Logistic Regression (LR) and\n",
        "Random Forest (RF).\n",
        "\n",
        "• Build your Machine learning model for heart disease detection according to the result."
      ],
      "metadata": {
        "id": "5gNsIklHp1i4"
      }
    },
    {
      "cell_type": "code",
      "execution_count": null,
      "metadata": {
        "id": "WygKkihEliXC"
      },
      "outputs": [],
      "source": [
        "import pandas as pd\n",
        "import numpy as np\n",
        "import matplotlib.pyplot as plt\n",
        "import seaborn as sns\n",
        "import warnings\n",
        "warnings.filterwarnings('ignore')"
      ]
    },
    {
      "cell_type": "code",
      "source": [
        "df= pd.read_csv(\"cardio.csv\")"
      ],
      "metadata": {
        "id": "gB2Ir4orZCvv"
      },
      "execution_count": null,
      "outputs": []
    },
    {
      "cell_type": "code",
      "source": [
        "df"
      ],
      "metadata": {
        "id": "Ulw7ZoPTZYao"
      },
      "execution_count": null,
      "outputs": []
    },
    {
      "cell_type": "code",
      "source": [
        "df= pd.read_csv(\"cardio.csv\",sep=\";\") # The separator (delimiter) between columns in the CSV file is a semicolon (;), not a comma (,)."
      ],
      "metadata": {
        "id": "yG8atFgEZZUd"
      },
      "execution_count": null,
      "outputs": []
    },
    {
      "cell_type": "code",
      "source": [
        "df.head() # View the first 5 rowsof the DataFrame."
      ],
      "metadata": {
        "id": "802DmdJfZjM0"
      },
      "execution_count": null,
      "outputs": []
    },
    {
      "cell_type": "code",
      "source": [
        "df.tail() # View the last 5 rowsof the DataFrame."
      ],
      "metadata": {
        "id": "ztV6zDK8ZlFc"
      },
      "execution_count": null,
      "outputs": []
    },
    {
      "cell_type": "code",
      "source": [
        "df.sample() # View the random 5rows of the DataFrame."
      ],
      "metadata": {
        "id": "bbSi33OkaKy9"
      },
      "execution_count": null,
      "outputs": []
    },
    {
      "cell_type": "code",
      "source": [
        "df.shape # Get the dimensions ofthe DataFrame."
      ],
      "metadata": {
        "id": "qyI2Ubm7ccNE"
      },
      "execution_count": null,
      "outputs": []
    },
    {
      "cell_type": "code",
      "source": [
        "df.dtypes # Check data types ofcolumns."
      ],
      "metadata": {
        "id": "XOryOPOgch12"
      },
      "execution_count": null,
      "outputs": []
    },
    {
      "cell_type": "code",
      "source": [
        "df.index # Display the indexrange."
      ],
      "metadata": {
        "id": "5GcYkpfKcpwT"
      },
      "execution_count": null,
      "outputs": []
    },
    {
      "cell_type": "code",
      "source": [
        "df.info() # Get a concise summaryof the DataFrame."
      ],
      "metadata": {
        "id": "oPmSbtWicupD"
      },
      "execution_count": null,
      "outputs": []
    },
    {
      "cell_type": "code",
      "source": [
        "df.describe() # Summarystatistics for numericalcolumns."
      ],
      "metadata": {
        "id": "SymnSCMPc03e"
      },
      "execution_count": null,
      "outputs": []
    },
    {
      "cell_type": "code",
      "source": [
        "df.columns # List column names."
      ],
      "metadata": {
        "id": "64jVYDo_c6lw"
      },
      "execution_count": null,
      "outputs": []
    },
    {
      "cell_type": "code",
      "source": [
        "# Cleaning Data\n",
        "\n",
        "df.isnull() # Check for nullvalues."
      ],
      "metadata": {
        "id": "kNgPGTqRc_Vq"
      },
      "execution_count": null,
      "outputs": []
    },
    {
      "cell_type": "code",
      "source": [
        "df.notnull() # Check for non-nullvalues."
      ],
      "metadata": {
        "id": "G5_5iwkFdxgh"
      },
      "execution_count": null,
      "outputs": []
    },
    {
      "cell_type": "code",
      "source": [
        "df[\"age\"]= (df[\"age\"]/365).astype(int)\n",
        "df[\"age\"]"
      ],
      "metadata": {
        "id": "VVJlVf9Rd5UG"
      },
      "execution_count": null,
      "outputs": []
    },
    {
      "cell_type": "code",
      "source": [
        "df[\"bmi\"]= df[\"weight\"]/ ((df[\"height\"]/100 ** 2))\n",
        "df[\"bmi\"]"
      ],
      "metadata": {
        "id": "uR2DzMQbblL8"
      },
      "execution_count": null,
      "outputs": []
    },
    {
      "cell_type": "code",
      "source": [
        "# Remove abnormal values (data cleaning)\n",
        "# ap_hi: systolic_bp\n",
        "# ap_lo: diastolic_bp\n",
        "df = df[(df[\"ap_hi\"] >= df[\"ap_lo\"]) & (df[\"ap_hi\"] <= 250) & (df[\"ap_lo\"] >= 40)]"
      ],
      "metadata": {
        "id": "Wn6-J6g4bxfS"
      },
      "execution_count": null,
      "outputs": []
    },
    {
      "cell_type": "code",
      "source": [
        "df"
      ],
      "metadata": {
        "id": "oU_4h9y9dtkl"
      },
      "execution_count": null,
      "outputs": []
    },
    {
      "cell_type": "code",
      "source": [
        "# Step 1: Remove missing values\n",
        "df = df.dropna(subset=['cardio'])"
      ],
      "metadata": {
        "id": "JCzBrV7CiTdT"
      },
      "execution_count": null,
      "outputs": []
    },
    {
      "cell_type": "code",
      "source": [
        "# Step 2: Keep only valid entries (0 or 1)\n",
        "df = df[df['cardio'].isin([0, 1, 0.0, 1.0])]"
      ],
      "metadata": {
        "id": "8Q7QSLT7ii53"
      },
      "execution_count": null,
      "outputs": []
    },
    {
      "cell_type": "code",
      "source": [
        "# Step 3: Convert to integer type\n",
        "df['cardio'] = df['cardio'].astype(int)"
      ],
      "metadata": {
        "id": "ZzZ23poDioPg"
      },
      "execution_count": null,
      "outputs": []
    },
    {
      "cell_type": "code",
      "source": [
        "df['cardio']"
      ],
      "metadata": {
        "id": "Bf3nER5ci0Fg"
      },
      "execution_count": null,
      "outputs": []
    },
    {
      "cell_type": "code",
      "source": [
        "# Distribution of target variable\n",
        "sns.countplot(x=\"cardio\", data=df, palette=\"coolwarm\")\n",
        "plt.title(\"heart disease distribution (0=NO, 1=YES)\")\n",
        "plt.show()"
      ],
      "metadata": {
        "id": "Xf4tqFsweKj8"
      },
      "execution_count": null,
      "outputs": []
    },
    {
      "cell_type": "code",
      "source": [
        "gender_cardio= df.groupby(\"gender\")[\"cardio\"].mean().reset_index()\n",
        "gender_cardio"
      ],
      "metadata": {
        "id": "BmLRiKl_fEZD"
      },
      "execution_count": null,
      "outputs": []
    },
    {
      "cell_type": "code",
      "metadata": {
        "id": "7a14ae97"
      },
      "source": [
        "display(gender_cardio['cardio'])"
      ],
      "execution_count": null,
      "outputs": []
    },
    {
      "cell_type": "code",
      "source": [
        "sns.barplot(x=\"gender\", y=\"cardio\", data=gender_cardio, palette=\"viridis\")\n",
        "plt.title(\"cardiovascular disease % by gender\")\n",
        "plt.show()"
      ],
      "metadata": {
        "id": "Gp594W1Lfqsr"
      },
      "execution_count": null,
      "outputs": []
    },
    {
      "cell_type": "code",
      "source": [
        "age_chol= df.groupby(\"age\")[\"cholesterol\"].mean().reset_index()"
      ],
      "metadata": {
        "id": "-Vb2GIq3h_h4"
      },
      "execution_count": null,
      "outputs": []
    },
    {
      "cell_type": "code",
      "source": [
        "# Systolic Blood Pressure distribution [ap_hi: systolic_bp]\n",
        "sns.histplot(df['ap_hi'], kde=True, bins=40)\n",
        "plt.title('Systolic Blood Pressure Distribution')\n",
        "plt.show()"
      ],
      "metadata": {
        "id": "TjBv2bFsjvdY"
      },
      "execution_count": null,
      "outputs": []
    },
    {
      "cell_type": "code",
      "source": [
        "# Diastolic Blood Pressure distribution [ap_lo: diastolic_bp]\n",
        "sns.histplot(df['ap_lo'], kde=True, bins=40)\n",
        "plt.title('Diastolic Blood Pressure Distribution')\n",
        "plt.show()"
      ],
      "metadata": {
        "id": "BDZXbnLZkODD"
      },
      "execution_count": null,
      "outputs": []
    },
    {
      "cell_type": "code",
      "source": [
        "prob = 0.496727  # example probability\n",
        "if prob >= 0.5:\n",
        "    print(f\"Risk Detected! ({prob*100:.2f}% chance of heart disease)\")\n",
        "else:\n",
        "    print(f\"No significant risk. ({prob*100:.2f}% chance of heart disease)\")"
      ],
      "metadata": {
        "id": "kwIE-kQsf8kc"
      },
      "execution_count": null,
      "outputs": []
    },
    {
      "cell_type": "code",
      "source": [
        "# Average cholesterol by gender\n",
        "# Average cholesterol by age\n",
        "df.groupby('gender')['cholesterol'].mean()"
      ],
      "metadata": {
        "id": "xRlCpoRig7_r"
      },
      "execution_count": null,
      "outputs": []
    },
    {
      "cell_type": "code",
      "source": [
        "df.groupby('age')['cholesterol'].mean()"
      ],
      "metadata": {
        "id": "6oSeDhEFlGK-"
      },
      "execution_count": null,
      "outputs": []
    },
    {
      "cell_type": "code",
      "source": [
        "# Count of patients by cardio status 0=NO, 1=Yes\n",
        "df.groupby('cardio').size()"
      ],
      "metadata": {
        "id": "mS-atm77lNA6"
      },
      "execution_count": null,
      "outputs": []
    },
    {
      "cell_type": "code",
      "source": [
        "df.groupby('cardio')[['ap_hi', 'ap_lo']].mean()\n"
      ],
      "metadata": {
        "id": "SdDKTRJOlVOH"
      },
      "execution_count": null,
      "outputs": []
    },
    {
      "cell_type": "code",
      "source": [
        "df.groupby(['gender', 'cardio'])['cholesterol'].mean()\n"
      ],
      "metadata": {
        "id": "q3QqFNVKleYF"
      },
      "execution_count": null,
      "outputs": []
    },
    {
      "cell_type": "code",
      "source": [
        "df.groupby('cardio')['age'].agg(['mean', 'min', 'max'])\n"
      ],
      "metadata": {
        "id": "NWn2OXZElhjs"
      },
      "execution_count": null,
      "outputs": []
    },
    {
      "cell_type": "code",
      "source": [
        "age_chol = df.groupby('age')['cholesterol'].mean().reset_index()\n",
        "\n",
        "plt.figure(figsize=(10,6))\n",
        "sns.lineplot(data=age_chol, x='age', y='cholesterol', marker='o', color='red')\n",
        "plt.title('Average Cholesterol Level by Age')\n",
        "plt.show()\n"
      ],
      "metadata": {
        "id": "bG9lJb9RlpO7"
      },
      "execution_count": null,
      "outputs": []
    },
    {
      "cell_type": "code",
      "source": [
        "# Correlation matrix\n",
        "plt.figure(figsize=(10,5))\n",
        "sns.heatmap(df.corr(), annot=True, cmap=\"Blues\", annot_kws={\"size\": 8})\n",
        "plt.title(\"correlation heatmap\")\n",
        "plt.show()"
      ],
      "metadata": {
        "id": "jWIVGgS7lstx"
      },
      "execution_count": null,
      "outputs": []
    },
    {
      "cell_type": "markdown",
      "source": [
        "#Train Models and Compare Accuracy\n",
        "---> the train and evaluate\n",
        "\n",
        "***five ML algorithms:\n",
        "\n",
        "\n",
        "1. SVM\n",
        "2. KNN\n",
        "3. Decision Tree\n",
        "4. Logistic Regression\n",
        "5. Random Forest\n",
        "\n"
      ],
      "metadata": {
        "id": "27FT7ZvYgX0I"
      }
    },
    {
      "cell_type": "markdown",
      "source": [
        "#Train-test split and StandardScaler"
      ],
      "metadata": {
        "id": "7PsiR4eggkpa"
      }
    },
    {
      "cell_type": "code",
      "source": [
        "from sklearn.model_selection import train_test_split\n",
        "from sklearn.preprocessing import StandardScaler"
      ],
      "metadata": {
        "id": "6LQKPtlHoA8B"
      },
      "execution_count": null,
      "outputs": []
    },
    {
      "cell_type": "code",
      "source": [
        "# Feature Selection and Train-Test Split\n",
        "x = df.drop(columns=[\"cardio\",\"patientid\"], errors='ignore')\n",
        "y = df['cardio']"
      ],
      "metadata": {
        "id": "P9ROx5GAmRcn"
      },
      "execution_count": null,
      "outputs": []
    },
    {
      "cell_type": "code",
      "source": [
        "x_train, x_test, y_train, y_test = train_test_split(x, y, test_size=0.2, random_state=42)"
      ],
      "metadata": {
        "id": "olohwCdRns_s"
      },
      "execution_count": null,
      "outputs": []
    },
    {
      "cell_type": "code",
      "source": [
        "# Feature scaling\n",
        "scaler = StandardScaler()\n",
        "x_train = scaler.fit_transform(x_train)\n",
        "x_test = scaler.transform(x_test)"
      ],
      "metadata": {
        "id": "T6CtdE1Qn6bV"
      },
      "execution_count": null,
      "outputs": []
    },
    {
      "cell_type": "markdown",
      "source": [
        " the dataset is divided into input features (X) and output labels (y).\n",
        "\n",
        "Split data → 80% training, 20% testing.\n",
        "\n",
        "Used StandardScaler to normalize values (important for ML models like SVM, KNN)."
      ],
      "metadata": {
        "id": "SpghVr8JoiH2"
      }
    },
    {
      "cell_type": "code",
      "source": [
        "plt.figure(figsize=(12,8))\n",
        "sns.heatmap(df.corr(), annot=True, cmap='coolwarm', fmt=\".2f\")\n",
        "plt.title('Feature Correlation Matrix')\n",
        "plt.show()"
      ],
      "metadata": {
        "id": "DRxCkgoBo3g8"
      },
      "execution_count": null,
      "outputs": []
    },
    {
      "cell_type": "code",
      "source": [
        "from sklearn.model_selection import train_test_split\n",
        "from sklearn.preprocessing import StandardScaler\n",
        "from sklearn.metrics import accuracy_score, confusion_matrix, classification_report\n",
        "from sklearn.linear_model import LogisticRegression\n",
        "from sklearn.neighbors import KNeighborsClassifier\n",
        "from sklearn.svm import SVC\n",
        "from sklearn.tree import DecisionTreeClassifier\n",
        "from sklearn.ensemble import RandomForestClassifier"
      ],
      "metadata": {
        "id": "mJ9xaPcgqOcN"
      },
      "execution_count": null,
      "outputs": []
    },
    {
      "cell_type": "markdown",
      "source": [
        "#Logistic Regression (LR):\n",
        "\n",
        "Concept:\n",
        "A statistical model that predicts binary outcomes (like Disease / No Disease) by finding a linear relationship between features and the log-odds of the target."
      ],
      "metadata": {
        "id": "3J-YnztWhiAP"
      }
    },
    {
      "cell_type": "code",
      "source": [
        "# Logistic Regression\n",
        "lr = LogisticRegression()\n",
        "lr.fit(x_train, y_train)\n",
        "y_pred_lr = lr.predict(x_test)"
      ],
      "metadata": {
        "id": "52h9BqAZgsCa"
      },
      "execution_count": null,
      "outputs": []
    },
    {
      "cell_type": "code",
      "source": [
        "acc_lr = accuracy_score(y_test, y_pred_lr)\n",
        "print(f\"🔹 Logistic Regression Accuracy: {acc_lr:.4f}\")\n",
        "print(classification_report(y_test, y_pred_lr))"
      ],
      "metadata": {
        "id": "EVCFvildhvP2"
      },
      "execution_count": null,
      "outputs": []
    },
    {
      "cell_type": "code",
      "source": [
        "# Confusion Matrix\n",
        "plt.figure(figsize=(4,3))\n",
        "sns.heatmap(confusion_matrix(y_test, y_pred_lr), annot=True, cmap=\"Blues\", fmt='d')\n",
        "plt.title(\"Logistic Regression Confusion Matrix\")\n",
        "plt.show()"
      ],
      "metadata": {
        "id": "zZf1IBCvhxu1"
      },
      "execution_count": null,
      "outputs": []
    },
    {
      "cell_type": "markdown",
      "source": [
        "#K-Nearest Neighbors (KNN):\n",
        "\n",
        "Concept:\n",
        "KNN predicts a sample’s class by looking at the majority class among its k nearest neighbors in the feature space."
      ],
      "metadata": {
        "id": "tccli-q-h_Gg"
      }
    },
    {
      "cell_type": "code",
      "source": [
        "knn = KNeighborsClassifier(n_neighbors=5)\n",
        "knn.fit(x_train, y_train)\n",
        "y_pred_knn = knn.predict(x_test)"
      ],
      "metadata": {
        "id": "3-5E42q2h7OV"
      },
      "execution_count": null,
      "outputs": []
    },
    {
      "cell_type": "code",
      "source": [
        "acc_knn = accuracy_score(y_test, y_pred_knn)\n",
        "print(f\"🔹 KNN Accuracy: {acc_knn:.4f}\")\n",
        "print(classification_report(y_test, y_pred_knn))"
      ],
      "metadata": {
        "id": "mfpIwT64iFnL"
      },
      "execution_count": null,
      "outputs": []
    },
    {
      "cell_type": "code",
      "source": [
        "plt.figure(figsize=(4,3))\n",
        "sns.heatmap(confusion_matrix(y_test, y_pred_knn), annot=True, cmap=\"Greens\", fmt='d')\n",
        "plt.title(\"KNN Confusion Matrix\")\n",
        "plt.show()"
      ],
      "metadata": {
        "id": "nL6ZiPAxiI3F"
      },
      "execution_count": null,
      "outputs": []
    },
    {
      "cell_type": "markdown",
      "source": [
        "#Support Vector Machine (SVM):\n",
        "\n",
        "Concept:\n",
        "SVM tries to find the optimal hyperplane that separates the classes (Disease / No Disease) with maximum margin."
      ],
      "metadata": {
        "id": "H6nUfVvCiPLZ"
      }
    },
    {
      "cell_type": "code",
      "source": [
        "# SVM\n",
        "svm = SVC(kernel=\"rbf\", probability=True)\n",
        "svm.fit(x_train, y_train)\n",
        "y_pred_svm = svm.predict(x_test)"
      ],
      "metadata": {
        "id": "kbkjY08YiNfY"
      },
      "execution_count": null,
      "outputs": []
    },
    {
      "cell_type": "code",
      "source": [
        "acc_svm = accuracy_score(y_test, y_pred_svm)\n",
        "print(f\"🔹 SVM Accuracy: {acc_svm:.4f}\")\n",
        "print(classification_report(y_test, y_pred_svm))"
      ],
      "metadata": {
        "id": "4LIazauTiTej"
      },
      "execution_count": null,
      "outputs": []
    },
    {
      "cell_type": "code",
      "source": [
        "plt.figure(figsize=(4,3))\n",
        "sns.heatmap(confusion_matrix(y_test, y_pred_svm), annot=True, cmap=\"Oranges\", fmt='d')\n",
        "plt.title(\"SVM Confusion Matrix\")\n",
        "plt.show()"
      ],
      "metadata": {
        "id": "JNPH0zVLiZLb"
      },
      "execution_count": null,
      "outputs": []
    },
    {
      "cell_type": "markdown",
      "source": [
        "#Decision Tree (DT):\n",
        "\n",
        "Concept:\n",
        "Decision Tree splits the data based on feature thresholds to create a tree of decisions. Easy to interpret but may overfit."
      ],
      "metadata": {
        "id": "fYF1YfIOidug"
      }
    },
    {
      "cell_type": "code",
      "source": [
        "# Decision Tree\n",
        "dt = DecisionTreeClassifier(random_state=42)\n",
        "dt.fit(x_train, y_train)\n",
        "y_pred_dt = dt.predict(x_test)"
      ],
      "metadata": {
        "id": "OJYYVzTnifyP"
      },
      "execution_count": null,
      "outputs": []
    },
    {
      "cell_type": "code",
      "source": [
        "acc_dt = accuracy_score(y_test, y_pred_dt)\n",
        "print(f\"🔹 Decision Tree Accuracy: {acc_dt:.4f}\")\n",
        "print(classification_report(y_test, y_pred_dt))"
      ],
      "metadata": {
        "id": "NsMTSiEYih82"
      },
      "execution_count": null,
      "outputs": []
    },
    {
      "cell_type": "code",
      "source": [
        "plt.figure(figsize=(4,3))\n",
        "sns.heatmap(confusion_matrix(y_test, y_pred_dt), annot=True, cmap=\"Purples\", fmt='d')\n",
        "plt.title(\"Decision Tree Confusion Matrix\")\n",
        "plt.show()"
      ],
      "metadata": {
        "id": "zoayYPjYikXx"
      },
      "execution_count": null,
      "outputs": []
    },
    {
      "cell_type": "markdown",
      "source": [
        "#Random Forest (RF)\n",
        "\n",
        "Concept:\n",
        "Random Forest combines multiple decision trees to improve accuracy and reduce overfitting."
      ],
      "metadata": {
        "id": "R-mOE-g5inBp"
      }
    },
    {
      "cell_type": "code",
      "source": [
        "# Random Forest\n",
        "rf = RandomForestClassifier(n_estimators=100, random_state=42)\n",
        "rf.fit(x_train, y_train)\n",
        "y_pred_rf = rf.predict(x_test)"
      ],
      "metadata": {
        "id": "ZEp4uluCipvL"
      },
      "execution_count": null,
      "outputs": []
    },
    {
      "cell_type": "code",
      "source": [
        "acc_rf = accuracy_score(y_test, y_pred_rf)\n",
        "print(f\"🔹 Random Forest Accuracy: {acc_rf:.4f}\")\n",
        "print(classification_report(y_test, y_pred_rf))"
      ],
      "metadata": {
        "id": "ySl83JY-ir0R"
      },
      "execution_count": null,
      "outputs": []
    },
    {
      "cell_type": "code",
      "source": [
        "plt.figure(figsize=(4,3))\n",
        "sns.heatmap(confusion_matrix(y_test, y_pred_rf), annot=True, cmap=\"coolwarm\", fmt='d')\n",
        "plt.title(\"Random Forest Confusion Matrix\")\n",
        "plt.show()"
      ],
      "metadata": {
        "id": "ZDO4DVKwit9A"
      },
      "execution_count": null,
      "outputs": []
    },
    {
      "cell_type": "markdown",
      "source": [
        "#Compare All Models"
      ],
      "metadata": {
        "id": "gJLV4td9i0iC"
      }
    },
    {
      "cell_type": "code",
      "source": [
        "# Compare Accuracies\n",
        "results = pd.DataFrame({\n",
        "    \"Model\": [\"Logistic Regression\",\"KNN\",\"SVM\",\"Decision Tree\",\"Random Forest\"],\n",
        "    \"Accuracy\": [acc_lr, acc_knn, acc_svm, acc_dt, acc_rf]\n",
        "}).sort_values(by=\"Accuracy\", ascending=False)\n",
        "\n",
        "print(\"\\n Model Performance Comparison:\")\n",
        "display(results)\n",
        "\n",
        "plt.figure(figsize=(8,4))\n",
        "sns.barplot(x=\"Model\", y=\"Accuracy\", data=results, palette=\"mako\")\n",
        "plt.title(\"Model Accuracy Comparison\")\n",
        "plt.ylim(0,1)\n",
        "plt.show()\n",
        "\n",
        "best_model_name = results.iloc[0,0]\n",
        "print(f\"Best performing model: {best_model_name}\")"
      ],
      "metadata": {
        "id": "RpwFGYwjizAv"
      },
      "execution_count": null,
      "outputs": []
    },
    {
      "cell_type": "code",
      "source": [
        "# Confusion Matrix for Best Model\n",
        "best_model_name = results_df.iloc[0,0]\n",
        "best_model = models[best_model_name]\n",
        "\n",
        "y_pred_best = best_model.predict(x_test)\n",
        "cm = confusion_matrix(y_test, y_pred_best)\n",
        "\n",
        "plt.figure(figsize=(5,4))\n",
        "sns.heatmap(cm, annot=True, fmt='d', cmap=\"Blues\")\n",
        "plt.title(f\"Confusion Matrix - {best_model_name}\")\n",
        "plt.xlabel(\"Predicted\")\n",
        "plt.ylabel(\"Actual\")\n",
        "plt.show()\n",
        "\n",
        "print(f\"\\n Best Performing Model: {best_model_name}\")"
      ],
      "metadata": {
        "id": "JvjexOjkqFdi"
      },
      "execution_count": null,
      "outputs": []
    },
    {
      "cell_type": "markdown",
      "source": [
        "#Patient-Level Prediction (Interactive)"
      ],
      "metadata": {
        "id": "CKW3UBaBvFfw"
      }
    },
    {
      "cell_type": "code",
      "source": [
        "print(\"\\n Enter patient values manually or modify the example below:\")\n",
        "\n",
        "# Example patient data (modify values)\n",
        "patient_data = {\n",
        "    \"age_years\": 52,\n",
        "    \"gender\": 1,          # 1 = male, 2 = female (depends on dataset)\n",
        "    \"height\": 168,\n",
        "    \"weight\": 70,\n",
        "    \"ap_hi\": 120,         # systolic BP\n",
        "    \"ap_lo\": 80,          # diastolic BP\n",
        "    \"cholesterol\": 1,     # 1 = normal, 2 = above normal, 3 = well above\n",
        "    \"gluc\": 1,            # glucose level\n",
        "    \"smoke\": 0,\n",
        "    \"alco\": 0,\n",
        "    \"active\": 1\n",
        "}"
      ],
      "metadata": {
        "id": "jQe2Iv7SqMCS"
      },
      "execution_count": null,
      "outputs": []
    },
    {
      "cell_type": "code",
      "source": [
        "# Convert to dataframe\n",
        "patient_df = pd.DataFrame([patient_data])"
      ],
      "metadata": {
        "id": "QbRiTMj-vNsr"
      },
      "execution_count": null,
      "outputs": []
    },
    {
      "cell_type": "code",
      "source": [
        "# Drop missing columns or align with model\n",
        "for col in x.columns:\n",
        "    if col not in patient_df.columns:\n",
        "        patient_df[col] = 0\n",
        "patient_df = patient_df[x.columns]\n",
        "\n",
        "# Scale same as training\n",
        "patient_scaled = scaler.transform(patient_df)"
      ],
      "metadata": {
        "id": "b3njLQQOvQeD"
      },
      "execution_count": null,
      "outputs": []
    },
    {
      "cell_type": "code",
      "source": [
        "\n",
        "# Predict disease & probability\n",
        "disease_pred = best_model.predict(patient_scaled)[0]\n",
        "prob = best_model.predict_proba(patient_scaled)[0][1] if hasattr(best_model, 'predict_proba') else None\n",
        "\n",
        "print(\"\\n Patient Information:\")\n",
        "display(patient_df)\n",
        "\n",
        "print(\"\\nPrediction Result:\")\n",
        "if disease_pred == 1:\n",
        "    print(\"High Risk of Cardiovascular Disease\")\n",
        "else:\n",
        "    print(\"No Significant Risk Detected\")\n",
        "\n",
        "if prob is not None:\n",
        "    print(f\"Probability of Disease: {prob*100:.2f}%\")"
      ],
      "metadata": {
        "id": "Nb_NpmllvSZ6"
      },
      "execution_count": null,
      "outputs": []
    },
    {
      "cell_type": "code",
      "source": [
        "# Optional: Visualize risk probability\n",
        "if prob is not None:\n",
        "    plt.figure(figsize=(5,3))\n",
        "    plt.bar([\"No Disease\", \"Disease\"], [1-prob, prob], color=[\"green\",\"red\"])\n",
        "    plt.title(\"Patient Risk Probability\")\n",
        "    plt.ylabel(\"Probability\")\n",
        "    plt.show()"
      ],
      "metadata": {
        "id": "tTqybgnAvfn8"
      },
      "execution_count": null,
      "outputs": []
    },
    {
      "cell_type": "code",
      "source": [
        "# Predict on your test set\n",
        "\n",
        "y_pred= model.predict(x_test)\n",
        "\n",
        "# Compare actual vs predicted\n",
        "result= pd.DataFrame({\n",
        "    \"actual\": y_test.values,\n",
        "    \"predicted\": y_pred\n",
        "  })\n",
        "print(result.tail(10)) # head() is the first'st 10nd rows and tail() is the last 10nd rows"
      ],
      "metadata": {
        "id": "su2VuEnR-hRa"
      },
      "execution_count": null,
      "outputs": []
    },
    {
      "cell_type": "code",
      "source": [
        "# Predict probabilities\n",
        "\n",
        "y_prob= model.predict_proba(x_test)[:,1]\n",
        "result[\"risk_probability\"]= y_prob\n",
        "print(result.head(20))"
      ],
      "metadata": {
        "id": "yv6lexTQ_JgD"
      },
      "execution_count": null,
      "outputs": []
    },
    {
      "cell_type": "code",
      "source": [
        "# Show actual vs predicted for first 20 test patients\n",
        "print(result.head(20))\n",
        "\n",
        "# Bar plot with class labels\n",
        "plt.figure(figsize=(12,6))\n",
        "sns.barplot(x=result.head(20).index,\n",
        "            y=result.head(20)[\"risk_probability\"],\n",
        "            hue=result.head(20)[\"predicted\"],\n",
        "            palette={0:\"green\", 1:\"red\"})\n",
        "\n",
        "# Add labels (CVD/No CVD + probability)\n",
        "for i, (prob, cls) in enumerate(zip(result.head(20)[\"risk_probability\"],\n",
        "                                    result.head(20)[\"predicted\"])):\n",
        "    label = \"No CVD\" if cls==0 else \"CVD\"\n",
        "    plt.text(i, prob+0.02, f\"{label}\\n{prob:.2f}\", ha=\"center\")\n",
        "\n",
        "plt.xticks(result.head(20).index, [f\"Patient {i+1}\" for i in result.head(20).index], rotation=45)\n",
        "plt.ylabel(\"Predicted Probability of CVD\")\n",
        "plt.title(\"CVD Prediction for First 20 Test Patients (0=No CVD, 1=CVD)\")\n",
        "plt.ylim(0, 1.1)\n",
        "plt.legend(title=\"Predicted Class\", labels=[\"No CVD\", \"CVD\"])\n",
        "plt.tight_layout()\n",
        "plt.show()"
      ],
      "metadata": {
        "id": "EC0EBuQm_Nhh"
      },
      "execution_count": null,
      "outputs": []
    },
    {
      "cell_type": "code",
      "source": [
        "plt.figure(figsize=(8, 6))\n",
        "sns.barplot(x='actual', y='risk_probability', data=result.groupby('actual')['risk_probability'].mean().reset_index(), palette='viridis')\n",
        "plt.title('Average Predicted CVD Probability by Actual Status')\n",
        "plt.xlabel('Actual CVD Status (0: No CVD, 1: CVD)')\n",
        "plt.ylabel('Average Predicted Probability of CVD')\n",
        "plt.xticks([0, 1], ['No CVD', 'CVD'])\n",
        "plt.ylim(0, 1) # Probabilities are between 0 and 1\n",
        "plt.grid(axis='y')\n",
        "plt.show()"
      ],
      "metadata": {
        "id": "5-tg5IW9_Uss"
      },
      "execution_count": null,
      "outputs": []
    },
    {
      "cell_type": "markdown",
      "source": [
        "#or\n",
        "#Predict for All Patients in the Dataset"
      ],
      "metadata": {
        "id": "1Ud6Fm0Dvj0q"
      }
    },
    {
      "cell_type": "code",
      "source": [
        "# Predict probabilities for all patients\n",
        "if hasattr(best_model, 'predict_proba'):\n",
        "    df[\"CVD_Probability\"] = best_model.predict_proba(scaler.transform(x))[:,1]\n",
        "else:\n",
        "    df[\"CVD_Probability\"] = best_model.predict(scaler.transform(x))"
      ],
      "metadata": {
        "id": "FopMJbGjvr2J"
      },
      "execution_count": null,
      "outputs": []
    },
    {
      "cell_type": "code",
      "source": [
        "# Predicted class (0 = No Disease, 1 = Disease)\n",
        "df[\"Predicted_Status\"] = best_model.predict(scaler.transform(x))"
      ],
      "metadata": {
        "id": "Z5u2e4Cbv2Bo"
      },
      "execution_count": null,
      "outputs": []
    },
    {
      "cell_type": "code",
      "source": [
        "# Display first 10 predictions\n",
        "print(\"Patient-level Disease Predictions:\")\n",
        "display(df[[\"age\", \"gender\", \"ap_hi\", \"ap_lo\", \"cholesterol\",\n",
        "            \"gluc\", \"CVD_Probability\", \"Predicted_Status\"]].head(10))"
      ],
      "metadata": {
        "id": "yxACjLLk2XYM"
      },
      "execution_count": null,
      "outputs": []
    },
    {
      "cell_type": "code",
      "source": [
        "# Optionally, save to CSV\n",
        "output_path = \"/content/Patient_Predictions.csv\"\n",
        "df.to_csv(output_path, index=False)\n",
        "print(f\"\\n✅ All patient predictions saved to: {output_path}\")"
      ],
      "metadata": {
        "id": "qSstIAGc3QYI"
      },
      "execution_count": null,
      "outputs": []
    },
    {
      "cell_type": "code",
      "source": [
        "# Distribution of predicted risk\n",
        "plt.figure(figsize=(6,4))\n",
        "sns.histplot(df[\"CVD_Probability\"], bins=20, kde=True, color=\"tomato\")\n",
        "plt.title(\"Distribution of Predicted Disease Probability (All Patients)\")\n",
        "plt.xlabel(\"Probability of Cardiovascular Disease\")\n",
        "plt.ylabel(\"Number of Patients\")\n",
        "plt.show()"
      ],
      "metadata": {
        "id": "Ck6EpiEV3Xj2"
      },
      "execution_count": null,
      "outputs": []
    },
    {
      "cell_type": "code",
      "source": [
        "# Visual Analysis: High-Risk vs Low-Risk Patients\n",
        "# Categorize patients by predicted status\n",
        "df[\"Risk_Level\"] = df[\"Predicted_Status\"].map({0: \"Low Risk\", 1: \"High Risk\"})"
      ],
      "metadata": {
        "id": "K-u77YCN3clu"
      },
      "execution_count": null,
      "outputs": []
    },
    {
      "cell_type": "code",
      "source": [
        "# Countplot: Number of High vs Low Risk Patients\n",
        "\n",
        "plt.figure(figsize=(6,4))\n",
        "sns.countplot(data=df, x=\"Risk_Level\", palette=\"coolwarm\")\n",
        "plt.title(\"Count of High-Risk vs Low-Risk Patients\")\n",
        "plt.xlabel(\"Risk Category\")\n",
        "plt.ylabel(\"Number of Patients\")\n",
        "plt.show()"
      ],
      "metadata": {
        "id": "JrMqmstQ3lpr"
      },
      "execution_count": null,
      "outputs": []
    },
    {
      "cell_type": "markdown",
      "source": [
        "# Patient-Level Prediction (SVM)"
      ],
      "metadata": {
        "id": "nxPP7j8J4CkQ"
      }
    },
    {
      "cell_type": "code",
      "source": [
        "# Predict for All Patients Using SVM\n",
        "\n",
        "df[\"CVD_Probability_SVM\"] = svm.predict_proba(scaler.transform(x))[:,1]\n",
        "df[\"Predicted_Status_SVM\"] = svm.predict(scaler.transform(x))"
      ],
      "metadata": {
        "id": "fIV60A924HPL"
      },
      "execution_count": null,
      "outputs": []
    },
    {
      "cell_type": "code",
      "source": [
        "print(\"First 10 SVM Predictions:\")\n",
        "display(df[[\"age\", \"cholesterol\", \"ap_hi\", \"ap_lo\", \"CVD_Probability_SVM\", \"Predicted_Status_SVM\"]].head(10))"
      ],
      "metadata": {
        "id": "MqGh3Q9Z4NMn"
      },
      "execution_count": null,
      "outputs": []
    },
    {
      "cell_type": "code",
      "source": [
        "# Save predictions\n",
        "output_svm = \"/content/SVM_Patient_Predictions.csv\"\n",
        "df.to_csv(output_svm, index=False)\n",
        "print(f\"\\n All SVM predictions saved to: {output_svm}\")"
      ],
      "metadata": {
        "id": "YzVOmsen7OA8"
      },
      "execution_count": null,
      "outputs": []
    },
    {
      "cell_type": "markdown",
      "source": [
        "#Predicted Disease Risk for First 50 Patients (Using SVM)"
      ],
      "metadata": {
        "id": "qV-lnZhQ_3gj"
      }
    },
    {
      "cell_type": "code",
      "source": [
        "# Select first 50 patients\n",
        "patients_50 = df.head(50).copy()"
      ],
      "metadata": {
        "id": "zPToosme7d1Q"
      },
      "execution_count": null,
      "outputs": []
    },
    {
      "cell_type": "code",
      "source": [
        "# Ensure correct columns are used\n",
        "x_cols = x.columns  # features used in model training"
      ],
      "metadata": {
        "id": "gOhtXrpY_6M3"
      },
      "execution_count": null,
      "outputs": []
    },
    {
      "cell_type": "code",
      "source": [
        "# Scale the data (use same scaler as training)\n",
        "patients_scaled = scaler.transform(patients_50[x_cols])"
      ],
      "metadata": {
        "id": "1foAjvst_9we"
      },
      "execution_count": null,
      "outputs": []
    },
    {
      "cell_type": "code",
      "source": [
        "# Predict using your trained model (choose: svm_model or best_model)\n",
        "patients_50[\"Predicted_Class\"] = svm.predict(patients_scaled)\n",
        "patients_50[\"CVD_Probability\"] = svm.predict_proba(patients_scaled)[:, 1]"
      ],
      "metadata": {
        "id": "U40GVIiFACkk"
      },
      "execution_count": null,
      "outputs": []
    },
    {
      "cell_type": "code",
      "source": [
        "# Plot probability for first 50 patients\n",
        "plt.figure(figsize=(15,6))\n",
        "sns.barplot(x=patients_50.index, y=patients_50['CVD_Probability'], palette=\"coolwarm\")\n",
        "\n",
        "# Add labels (Disease / No Disease)\n",
        "for i, prob in enumerate(patients_50['CVD_Probability']):\n",
        "    label = \"Disease\" if patients_50['Predicted_Class'].iloc[i] == 1 else \"No Disease\"\n",
        "    plt.text(i, prob + 0.02, label,\n",
        "             ha='center',\n",
        "             color=('red' if label==\"Disease\" else 'green'),\n",
        "             fontsize=9)"
      ],
      "metadata": {
        "id": "bfIk5dZaAFfc"
      },
      "execution_count": null,
      "outputs": []
    },
    {
      "cell_type": "code",
      "source": [
        "# Generate x-axis positions\n",
        "x_positions = range(len(patients_50))"
      ],
      "metadata": {
        "id": "MtJgUfnYA4WL"
      },
      "execution_count": null,
      "outputs": []
    },
    {
      "cell_type": "code",
      "source": [
        "# Assign colors based on risk\n",
        "colors = ['red' if risk == 1 else 'green' for risk in patients_50[\"Predicted_Class\"]]"
      ],
      "metadata": {
        "id": "dB4ix_rkBHBA"
      },
      "execution_count": null,
      "outputs": []
    },
    {
      "cell_type": "code",
      "source": [
        "# Plot\n",
        "plt.figure(figsize=(15, 6))\n",
        "plt.bar(x_positions, patients_50[\"CVD_Probability\"], color=colors)\n",
        "plt.xticks(x_positions, [f\"Patient {i+1}\" for i in x_positions], rotation=90)\n",
        "plt.ylabel(\"Predicted CVD Probability\")\n",
        "plt.title(\"Predicted Cardiovascular Disease Risk for First 50 Patients (SVM Model)\")\n",
        "plt.ylim(0, 1.1)\n",
        "\n",
        "# Add legend\n",
        "red_patch = mpatches.Patch(color='red', label='High Risk')\n",
        "green_patch = mpatches.Patch(color='green', label='Low Risk')\n",
        "plt.legend(handles=[red_patch, green_patch])\n",
        "\n",
        "plt.tight_layout()\n",
        "plt.show()"
      ],
      "metadata": {
        "id": "SzSJQpohBJEQ"
      },
      "execution_count": null,
      "outputs": []
    },
    {
      "cell_type": "code",
      "source": [
        "# Save to Excel\n",
        "output_file = \"CVD_Predictions.xlsx\"\n",
        "result.to_excel(output_file, index=False)\n",
        "\n",
        "print(f\"Predictions saved to {output_file}\")"
      ],
      "metadata": {
        "id": "fythOAEMBYHY"
      },
      "execution_count": null,
      "outputs": []
    },
    {
      "cell_type": "code",
      "source": [
        "# Save Predictions\n",
        "# Save patient predictions\n",
        "patients_50.to_excel(\"CVD_First50_Predictions.xlsx\", index=False)\n",
        "\n",
        "# Save test set predictions\n",
        "result.to_excel(\"CVD_TestSet_Predictions.xlsx\", index=False)"
      ],
      "metadata": {
        "id": "XNX96hPgB6AR"
      },
      "execution_count": null,
      "outputs": []
    },
    {
      "cell_type": "code",
      "source": [
        "# Save all patient predictions to an Excel file\n",
        "df.to_excel(\"CVD_All_Patient_Predictions.xlsx\", index=False)\n",
        "\n",
        "# Save model performance comparison to an Excel file\n",
        "results_df.to_excel(\"CVD_Model_Performance.xlsx\", index=False)\n",
        "\n",
        "# Save feature importance to an Excel file\n",
        "# Check if 'feat_importance' DataFrame exists before saving\n",
        "if 'feat_importance' in locals() and isinstance(feat_importance, pd.DataFrame):\n",
        "    feat_importance.to_excel(\"CVD_Feature_Importance.xlsx\", index=False)\n",
        "else:\n",
        "    print(\"Feature importance DataFrame not found. Skipping save.\")\n",
        "\n",
        "print(\"All specified DataFrames saved to separate Excel files.\")"
      ],
      "metadata": {
        "id": "D_ONnxRtB85c"
      },
      "execution_count": null,
      "outputs": []
    },
    {
      "cell_type": "code",
      "source": [
        "import os\n",
        "print(os.getcwd())   # shows working folder"
      ],
      "metadata": {
        "id": "DI9MCM1ZCVmx"
      },
      "execution_count": null,
      "outputs": []
    },
    {
      "cell_type": "code",
      "source": [
        "os.listdir()"
      ],
      "metadata": {
        "id": "e6adA3fnDm7a"
      },
      "execution_count": null,
      "outputs": []
    },
    {
      "cell_type": "code",
      "source": [
        "from google.colab import files\n",
        "files.download(\"CVD_Model_Performance.xlsx\")\n",
        "print(\"Attempting to download CVD_Model_Performance.xlsx...\")"
      ],
      "metadata": {
        "id": "vfv7mZqzDpwp"
      },
      "execution_count": null,
      "outputs": []
    },
    {
      "cell_type": "code",
      "source": [
        "from google.colab import files\n",
        "\n",
        "files_to_download = [\n",
        "    \"CVD_Model_Performance.xlsx\",\n",
        "    \"CVD_Predictions.xlsx\",\n",
        "    \"CVD_Model_Results.xlsx\"\n",
        "]\n",
        "\n",
        "for file in files_to_download:\n",
        "    print(f\"Downloading {file}...\")\n",
        "    files.download(file)"
      ],
      "metadata": {
        "id": "iNbYvEH7D9j1"
      },
      "execution_count": null,
      "outputs": []
    },
    {
      "cell_type": "code",
      "source": [
        "import pandas as pd\n",
        "from google.colab import files\n",
        "import os\n",
        "\n",
        "# Combine all Excel files in the folder into one file with separate sheets\n",
        "with pd.ExcelWriter(\"Combined_CVD_Data.xlsx\", engine=\"openpyxl\") as writer:\n",
        "    for f in [x for x in os.listdir() if x.endswith(\".xlsx\")]:\n",
        "        try:\n",
        "            pd.read_excel(f, engine=\"openpyxl\").to_excel(writer, sheet_name=f.split(\".\")[0], index=False)\n",
        "        except Exception as e:\n",
        "            print(f\"Could not read or write file {f}: {e}\")\n",
        "\n",
        "\n",
        "files.download(\"Combined_CVD_Data.xlsx\")"
      ],
      "metadata": {
        "id": "fGS5tMdQGjp8"
      },
      "execution_count": null,
      "outputs": []
    }
  ]
}